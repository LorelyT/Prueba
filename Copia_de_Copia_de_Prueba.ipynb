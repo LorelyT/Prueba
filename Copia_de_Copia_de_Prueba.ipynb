{
  "nbformat": 4,
  "nbformat_minor": 0,
  "metadata": {
    "colab": {
      "name": "Copia de Copia de Prueba.ipynb",
      "provenance": []
    },
    "kernelspec": {
      "name": "python3",
      "display_name": "Python 3"
    },
    "language_info": {
      "name": "python"
    }
  },
  "cells": [
    {
      "cell_type": "code",
      "source": [
        "hola = \"hola\"\n"
      ],
      "metadata": {
        "id": "sobLPSvQZ0H9"
      },
      "execution_count": null,
      "outputs": []
    }
  ]
}